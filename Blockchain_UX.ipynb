{
 "cells": [
  {
   "cell_type": "markdown",
   "metadata": {},
   "source": [
    "# The Young and the Trustless\n",
    "## Effective User Experience in blockchain products\n",
    "\n",
    "1. Why is it important to research your userbase? effective tool? How to find out?\n",
    "    * you want to know the people you're building for (want v. need)\n",
    "    * send out emails, user surveys, dynamic feedback, analytics, user comments\n",
    "    * fuck the cool idea, do they want it?\n",
    "    (shapshift: buy and sell digital assets)\n",
    "2. How to find your userbase?\n",
    "    * nature of app may make it hard to know how many users there are, \n",
    "    what they are like, etc.  \n",
    "3. How are you users responding to surveys?\n",
    "    * people in this industry want to give feedback/be heard because\n",
    "    they care about their security  \n",
    "4. coinbase(how are is it to be interacting with your users who are using crypto for the first time?)\n",
    "    * education first and foremost, and readily available\n",
    "    * finds challenges in deterring users from using crypto \n",
    "      with being knowledgable about its' functionality  \n",
    "5. How do you deal with educating users on your product? (shapshift)\n",
    "    * your users are not as sophisticated you think they are\n",
    "    * the tech is pulling in people who don't know shit but are interested which is great, be understanding   \n",
    "6. What do you think is the best strategy for priming new comers?\n",
    "    * (?)-you want the first interaction to be the easiest and clearest. first message.\n",
    "    * (shapeshifter) -foster an environment where customers can help each other, this will ensure that you always have more customers that employees\n",
    "    * (coinbase)-messaging scales, support does not. self help links in applications.  \n",
    "7. What was your involvment in coinbase commerce/company's reasoning?\n",
    "    * early stage, important to get framework in place\n",
    "    * works for merchants rather than crypto people\n",
    "    * creates pipeline for involvement    \n",
    "8. UX experience for users using their private keys?\n",
    "    * understanding where your users fall in terms of familiarity. hard for some. \n",
    "    * having people manage their own keys in not encouraged (based on audience)\n",
    "    * know your user's expectations and determine if you can meet those expecatations and \n",
    "    if you can't what are you going to do to solve that conundrum?   \n",
    "9. user personas\n",
    "    * create the user archetype\n",
    "    * know their interests, thought processes\n",
    "10. How do you know what features to offer next and when and how does that effect your user profile?\n",
    "    * create features that people like or keep the damn thing running?\n",
    "    * personel scaling issues effect feature production\n",
    "    * you don't deal with the scale of your product (server, framework etc.) but also blockchain's\n",
    "    * industry grows faster than adaptation\n",
    "    * network transaction fee different from product fee. lack of education heavily expects ux\n",
    "11. Are there any effective UX strategies?\n",
    "    * mining fees were costing more than the cost of running the company, changes the perspective, approach\n",
    "    and features provided to users. losing value in just transaction fee. set a minimum? bad tradeoff.\n",
    "    * UX cannot fix feelings towards gas fees, make it clear, make it findable, but also make it clear that you don't have the range\n",
    "    * try to find what's more important to them? higher speed, lower gas price etc.\n",
    "12. How do you user branding and ux to build trust in your userbase?\n",
    "    * the power of brand is way more important that what happens externally\n",
    "    * try to protect customers from phishing with branding, be consistent\n",
    "    * your brand is your product.\n",
    "    * customers don't give a fuck about your code dude, invalidating your engineering\n",
    "13. Do you think we will have a trustless decentralized financial system?\n",
    "    * it's rn bih fuck you thought, already passed threshhold of inevitability\n",
    "    * users building part of the future. the tech might be there, but the humans won't.\n",
    "14. How do we give users autonomy with controlling their private keys and true custodianship?\n",
    "    * is no middle ground, model is different dependent on the user base\n",
    "    "
   ]
  },
  {
   "cell_type": "code",
   "execution_count": null,
   "metadata": {
    "collapsed": true
   },
   "outputs": [],
   "source": []
  }
 ],
 "metadata": {
  "kernelspec": {
   "display_name": "Python 3",
   "language": "python",
   "name": "python3"
  },
  "language_info": {
   "codemirror_mode": {
    "name": "ipython",
    "version": 3
   },
   "file_extension": ".py",
   "mimetype": "text/x-python",
   "name": "python",
   "nbconvert_exporter": "python",
   "pygments_lexer": "ipython3",
   "version": "3.6.3"
  }
 },
 "nbformat": 4,
 "nbformat_minor": 2
}
